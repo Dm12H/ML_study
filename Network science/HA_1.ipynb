{
 "cells": [
  {
   "cell_type": "code",
   "execution_count": 1,
   "metadata": {
    "collapsed": true
   },
   "outputs": [],
   "source": [
    "import csv\n",
    "import numpy as np\n",
    "import networkx as nx\n",
    "import matplotlib.pyplot as plt\n",
    "import math\n",
    "from numpy.random import RandomState\n",
    "import collections\n",
    "import xlrd\n",
    "%matplotlib inline"
   ]
  },
  {
   "cell_type": "code",
   "execution_count": 2,
   "metadata": {
    "collapsed": true
   },
   "outputs": [],
   "source": [
    "from decimal import *"
   ]
  },
  {
   "cell_type": "code",
   "execution_count": 3,
   "metadata": {},
   "outputs": [],
   "source": [
    "HMM = xlrd.open_workbook('HMM-model.xlsx')\n",
    "HMM = HMM.sheet_by_index(0)"
   ]
  },
  {
   "cell_type": "code",
   "execution_count": 4,
   "metadata": {
    "collapsed": true
   },
   "outputs": [],
   "source": [
    "c0 =  [HMM.row_values(i) for i in range(HMM.nrows) ]"
   ]
  },
  {
   "cell_type": "code",
   "execution_count": 5,
   "metadata": {},
   "outputs": [],
   "source": [
    "Observed = open('data-observations.txt','rU')\n",
    "O = np.array((Observed.read().splitlines())).astype('int')"
   ]
  },
  {
   "cell_type": "code",
   "execution_count": 6,
   "metadata": {},
   "outputs": [],
   "source": [
    "c0 = [filter(lambda a: a != '', x) for x in c0]\n",
    "c0 = [map(lambda a: a.encode('ascii') if type(a) == unicode else a, x) for x in c0]\n",
    "c0 = filter(lambda a: a != [], c0)"
   ]
  },
  {
   "cell_type": "code",
   "execution_count": 7,
   "metadata": {},
   "outputs": [
    {
     "name": "stdout",
     "output_type": "stream",
     "text": [
      "[['Transition matrix'], ['A = ', 0.96, 0.04], [0.02, 0.98], ['Signal matrix'], [0.144, 0.183, 0.19, 0.186, 0.179, 0.118], ['B = ', 0.11, 0.128, 0.112, 0.1, 0.11, 0.44], ['Initial state vector'], ['p=', 0.93, 0.07]]\n"
     ]
    }
   ],
   "source": [
    "print c0"
   ]
  },
  {
   "cell_type": "markdown",
   "metadata": {},
   "source": [
    "Our states and part of observations"
   ]
  },
  {
   "cell_type": "code",
   "execution_count": 8,
   "metadata": {},
   "outputs": [
    {
     "name": "stdout",
     "output_type": "stream",
     "text": [
      "\n",
      "set([1, 2, 3, 4, 5, 6])\n",
      "[2 6 1 5 6 4 2 1 1 2 2 3 1 6 1 4 5 3 2 3]\n"
     ]
    }
   ],
   "source": [
    "print \n",
    "print set(O)\n",
    "print O[:20]"
   ]
  },
  {
   "cell_type": "markdown",
   "metadata": {},
   "source": [
    "Matrices for the model"
   ]
  },
  {
   "cell_type": "code",
   "execution_count": 83,
   "metadata": {},
   "outputs": [],
   "source": [
    "A = np.array([filter(lambda x: type(x) != str, a) for a in c0[1:3]])\n",
    "B = np.array([filter(lambda x: type(x) != str, b) for b in c0[4:6]])\n",
    "Pi = np.array(filter(lambda x: type(x) != str, c0[7]))"
   ]
  },
  {
   "cell_type": "code",
   "execution_count": 10,
   "metadata": {},
   "outputs": [
    {
     "name": "stdout",
     "output_type": "stream",
     "text": [
      "[[ 0.96  0.04]\n",
      " [ 0.02  0.98]]\n",
      "[[ 0.144  0.183  0.19   0.186  0.179  0.118]\n",
      " [ 0.11   0.128  0.112  0.1    0.11   0.44 ]]\n",
      "[ 0.93  0.07]\n"
     ]
    }
   ],
   "source": [
    "print A\n",
    "print B\n",
    "print Pi"
   ]
  },
  {
   "cell_type": "markdown",
   "metadata": {},
   "source": [
    "To solve the upcoming underflow problem, i used decimal module for more exact float computation"
   ]
  },
  {
   "cell_type": "code",
   "execution_count": 33,
   "metadata": {},
   "outputs": [],
   "source": [
    "A = [filter(lambda x: type(x) != str, a) for a in c0[1:3]]\n",
    "A = np.array([map(lambda x: Decimal(x),a) for a in A])\n",
    "B = [filter(lambda x: type(x) != str, b) for b in c0[4:6]]\n",
    "B = np.array([map(lambda x: Decimal(x),b) for b in B])\n",
    "Pi = filter(lambda x: type(x) != str, c0[7])\n",
    "Pi = np.array(map(lambda x: Decimal(x),Pi))"
   ]
  },
  {
   "cell_type": "markdown",
   "metadata": {},
   "source": [
    "Forvard run"
   ]
  },
  {
   "cell_type": "code",
   "execution_count": 23,
   "metadata": {},
   "outputs": [],
   "source": [
    "def ForvardRun(Length,A=A,B=B,Pi=Pi,Observations=O):\n",
    "    last_index = min(len(Observations),Length)\n",
    "    Obs = Observations[0:last_index]\n",
    "    N = len(Obs)\n",
    "    counter = 1\n",
    "    T = Pi*B[:,Obs[0]-1]\n",
    "    while counter < N:\n",
    "        T = T*A.dot(B[:,Obs[counter]-1])\n",
    "        counter +=1\n",
    "    return T\n",
    "        "
   ]
  },
  {
   "cell_type": "code",
   "execution_count": 24,
   "metadata": {},
   "outputs": [
    {
     "data": {
      "text/plain": [
       "Decimal('5.140979240402678104906766989E-789')"
      ]
     },
     "execution_count": 24,
     "metadata": {},
     "output_type": "execute_result"
    }
   ],
   "source": [
    "sum(ForvardRun(1000))"
   ]
  },
  {
   "cell_type": "markdown",
   "metadata": {},
   "source": [
    "We can try to check if the calculation is right.let's try to simulate chain of length 3"
   ]
  },
  {
   "cell_type": "code",
   "execution_count": 11,
   "metadata": {
    "collapsed": true
   },
   "outputs": [],
   "source": [
    "def HMM_generator(Length,num,A=A,B=B,Pi=Pi):\n",
    "    Sample = []\n",
    "    for i in range(num):\n",
    "        state = np.random.choice([0,1],p=Pi)\n",
    "        item = str()\n",
    "        for j in range(Length):\n",
    "            update = str(np.random.choice(range(6),p = B[state])+1)\n",
    "            item = item + update\n",
    "            state = np.random.choice([0,1],p = A[state])\n",
    "        Sample.append(str(item))\n",
    "    return Sample\n",
    "    "
   ]
  },
  {
   "cell_type": "code",
   "execution_count": 98,
   "metadata": {},
   "outputs": [],
   "source": [
    "sample = HMM_generator(3,50000)"
   ]
  },
  {
   "cell_type": "code",
   "execution_count": 99,
   "metadata": {
    "collapsed": true
   },
   "outputs": [],
   "source": [
    "a =O[:3].tolist()\n",
    "b = ''.join([str(x) for x in a])"
   ]
  },
  {
   "cell_type": "markdown",
   "metadata": {},
   "source": [
    "Comparison below"
   ]
  },
  {
   "cell_type": "code",
   "execution_count": 103,
   "metadata": {},
   "outputs": [
    {
     "name": "stdout",
     "output_type": "stream",
     "text": [
      "0.003607188331775999555918620557\n",
      "0.0032\n"
     ]
    }
   ],
   "source": [
    "print sum(ForvardRun(3))\n",
    "print sample.count(b)/50000.0"
   ]
  },
  {
   "cell_type": "markdown",
   "metadata": {},
   "source": [
    "Well, at least the decimal point is right. We have to make enourmous samples to make this work, as they explode exponentially"
   ]
  },
  {
   "cell_type": "markdown",
   "metadata": {},
   "source": [
    "Backward Run"
   ]
  },
  {
   "cell_type": "code",
   "execution_count": 25,
   "metadata": {},
   "outputs": [],
   "source": [
    "def BackwardRun(Length,A=A,B=B,Pi=Pi,Observations=O):\n",
    "    last_index = max(len(Observations)-Length,0)\n",
    "    Obs = Observations[-last_index:]\n",
    "    N = len(Obs)\n",
    "    counter = N-2\n",
    "    T = 1\n",
    "    while counter > 0:\n",
    "        T = A.dot(B[:,Obs[counter]-1])*T\n",
    "        counter-=1\n",
    "    return T\n",
    "        "
   ]
  },
  {
   "cell_type": "code",
   "execution_count": 26,
   "metadata": {},
   "outputs": [
    {
     "data": {
      "text/plain": [
       "Decimal('2.117729477204125141965913872E-787')"
      ]
     },
     "execution_count": 26,
     "metadata": {},
     "output_type": "execute_result"
    }
   ],
   "source": [
    "sum(BackwardRun(1000))"
   ]
  },
  {
   "cell_type": "markdown",
   "metadata": {},
   "source": [
    "Difference may be due to missing Pi at the end. both algorithms are supposed to be used together"
   ]
  },
  {
   "cell_type": "code",
   "execution_count": 27,
   "metadata": {},
   "outputs": [],
   "source": [
    "def Forvard_Backward(length,t,a=A,b=B,pi=Pi,observations=O):\n",
    "    A = ForvardRun(Length = t, A=a,B=b,Pi=pi,Observations=observations)\n",
    "    B = BackwardRun(Length = t,A=a,B=b,Pi=pi,Observations=observations)\n",
    "    return A.dot(B)"
   ]
  },
  {
   "cell_type": "code",
   "execution_count": 28,
   "metadata": {},
   "outputs": [
    {
     "data": {
      "text/plain": [
       "Decimal('1.928597922331817622937446691E-787')"
      ]
     },
     "execution_count": 28,
     "metadata": {},
     "output_type": "execute_result"
    }
   ],
   "source": [
    "Forvard_Backward(1000,500)"
   ]
  },
  {
   "cell_type": "markdown",
   "metadata": {},
   "source": [
    "Now for Viterbi"
   ]
  },
  {
   "cell_type": "code",
   "execution_count": 131,
   "metadata": {},
   "outputs": [],
   "source": [
    "def Viterbi(A=A,B=B,Pi=Pi,Observations=O):\n",
    "    Obs = O\n",
    "    N = len(Obs)\n",
    "    delta = Pi*B[:,Obs[0]-1]\n",
    "    states = []\n",
    "    c = 0\n",
    "    counter = 1\n",
    "    while counter < N:\n",
    "        state = np.argmax(delta*np.sum(A,axis=1),axis=0)\n",
    "        delta = np.amax(np.transpose(delta)*A,axis = 0)*B[:,Obs[counter]-1]\n",
    "        scaling = sum(delta)\n",
    "        delta = delta / scaling\n",
    "        c = math.log10(scaling)+c\n",
    "        states.append(state)\n",
    "        counter +=1\n",
    "    states.append(np.argmax(delta))\n",
    "    return states,c\n",
    "        "
   ]
  },
  {
   "cell_type": "code",
   "execution_count": 132,
   "metadata": {},
   "outputs": [
    {
     "name": "stdout",
     "output_type": "stream",
     "text": [
      "811.886087319\n"
     ]
    }
   ],
   "source": [
    "y,c = Viterbi()\n",
    "print -c"
   ]
  },
  {
   "cell_type": "code",
   "execution_count": 133,
   "metadata": {},
   "outputs": [
    {
     "data": {
      "text/plain": [
       "[0, 1001, -1, 2]"
      ]
     },
     "execution_count": 133,
     "metadata": {},
     "output_type": "execute_result"
    },
    {
     "data": {
      "image/png": "[encoded data removed]",
      "text/plain": [
       "<matplotlib.figure.Figure at 0x7f8bcab14b90>"
      ]
     },
     "metadata": {},
     "output_type": "display_data"
    }
   ],
   "source": [
    "fig, ax = plt.subplots(1,1,figsize=(14,4))\n",
    "x = np.arange(1000)\n",
    "im = ax.step(x, y)\n",
    "plt.axis([0, 1001 , -1, 2])"
   ]
  },
  {
   "cell_type": "code",
   "execution_count": null,
   "metadata": {
    "collapsed": true
   },
   "outputs": [],
   "source": []
  },
  {
   "cell_type": "code",
   "execution_count": null,
   "metadata": {
    "collapsed": true
   },
   "outputs": [],
   "source": []
  }
 ],
 "metadata": {
  "kernelspec": {
   "display_name": "Python 3",
   "language": "python",
   "name": "python3"
  },
  "language_info": {
   "codemirror_mode": {
    "name": "ipython",
    "version": 3
   },
   "file_extension": ".py",
   "mimetype": "text/x-python",
   "name": "python",
   "nbconvert_exporter": "python",
   "pygments_lexer": "ipython3",
   "version": "3.5.2"
  }
 },
 "nbformat": 4,
 "nbformat_minor": 2
}
