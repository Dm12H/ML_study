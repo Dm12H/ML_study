{
 "cells": [
  {
   "cell_type": "markdown",
   "metadata": {},
   "source": [
    "## Dictionary with users' preferences"
   ]
  },
  {
   "cell_type": "code",
   "execution_count": 93,
   "metadata": {
    "collapsed": true
   },
   "outputs": [],
   "source": [
    "# A dictionary of movie critics and their ratings of a small\n",
    "# set of movies\n",
    "critics={'Lisa Rose': {'Lady in the Water': 2.5, 'Snakes on a Plane': 3.5,\n",
    " 'Just My Luck': 3.0, 'Superman Returns': 3.5, 'You, Me and Dupree': 2.5, \n",
    " 'The Night Listener': 3.0},\n",
    "'Gene Seymour': {'Lady in the Water': 3.0, 'Snakes on a Plane': 3.5, \n",
    " 'Just My Luck': 1.5, 'Superman Returns': 5.0, 'The Night Listener': 3.0, \n",
    " 'You, Me and Dupree': 3.5}, \n",
    "'Michael Phillips': {'Lady in the Water': 2.5, 'Snakes on a Plane': 3.0,\n",
    " 'Superman Returns': 3.5, 'The Night Listener': 4.0},\n",
    "'Claudia Puig': {'Snakes on a Plane': 3.5, 'Just My Luck': 3.0,\n",
    " 'The Night Listener': 4.5, 'Superman Returns': 4.0, \n",
    " 'You, Me and Dupree': 2.5},\n",
    "'Mick LaSalle': {'Lady in the Water': 3.0, 'Snakes on a Plane': 4.0, \n",
    " 'Just My Luck': 2.0, 'Superman Returns': 3.0, 'The Night Listener': 3.0,\n",
    " 'You, Me and Dupree': 2.0}, \n",
    "'Jack Matthews': {'Lady in the Water': 3.0, 'Snakes on a Plane': 4.0,\n",
    " 'The Night Listener': 3.0, 'Superman Returns': 5.0, 'You, Me and Dupree': 3.5},\n",
    "'Toby': {'Snakes on a Plane':4.5,'You, Me and Dupree':1.0,'Superman Returns':4.0}}\n"
   ]
  },
  {
   "cell_type": "code",
   "execution_count": 109,
   "metadata": {},
   "outputs": [
    {
     "data": {
      "text/plain": [
       "{'Snakes on a Plane': 4.5, 'Superman Returns': 4.0, 'You, Me and Dupree': 1.0}"
      ]
     },
     "execution_count": 109,
     "metadata": {},
     "output_type": "execute_result"
    }
   ],
   "source": [
    "critics['Toby']"
   ]
  },
  {
   "cell_type": "code",
   "execution_count": 110,
   "metadata": {},
   "outputs": [
    {
     "data": {
      "text/plain": [
       "2.5"
      ]
     },
     "execution_count": 110,
     "metadata": {},
     "output_type": "execute_result"
    }
   ],
   "source": [
    "critics['Lisa Rose']['Lady in the Water']"
   ]
  },
  {
   "cell_type": "code",
   "execution_count": 49,
   "metadata": {},
   "outputs": [
    {
     "data": {
      "text/plain": [
       "3.1622776601683795"
      ]
     },
     "execution_count": 49,
     "metadata": {},
     "output_type": "execute_result"
    }
   ],
   "source": [
    "#Claculate Euclidean distance\n",
    "from math import sqrt\n",
    "sqrt(pow(5-4,2)+pow(4-1,2))"
   ]
  },
  {
   "cell_type": "code",
   "execution_count": 50,
   "metadata": {},
   "outputs": [
    {
     "data": {
      "text/plain": [
       "0.2402530733520421"
      ]
     },
     "execution_count": 50,
     "metadata": {},
     "output_type": "execute_result"
    }
   ],
   "source": [
    "#Transform distance to similarity\n",
    "1/(1+sqrt(pow(5-4,2)+pow(4-1,2)))"
   ]
  },
  {
   "cell_type": "code",
   "execution_count": 51,
   "metadata": {
    "collapsed": true
   },
   "outputs": [],
   "source": [
    "# Returns a distance-based similarity score for person1 and person2\n",
    "def sim_distance(prefs,person1,person2):\n",
    "# Get the list of shared_items\n",
    "    si={}\n",
    "    for item in prefs[person1]:\n",
    "        if item in prefs[person2]:\n",
    "            si[item]=1\n",
    "# if they have no ratings in common, return 0\n",
    "    if len(si)==0: return 0\n",
    "# Add up the squares of all the differences\n",
    "    sum_of_squares=sum([pow(prefs[person1][item]-prefs[person2][item],2)\n",
    "    for item in prefs[person1] if item in prefs[person2]])\n",
    "    return 1/(1+sum_of_squares)\n",
    "\n",
    "    "
   ]
  },
  {
   "cell_type": "code",
   "execution_count": 6,
   "metadata": {},
   "outputs": [
    {
     "data": {
      "text/plain": [
       "0.14814814814814814"
      ]
     },
     "execution_count": 6,
     "metadata": {},
     "output_type": "execute_result"
    }
   ],
   "source": [
    "sim_distance(critics, 'Lisa Rose','Gene Seymour')"
   ]
  },
  {
   "cell_type": "code",
   "execution_count": 52,
   "metadata": {
    "collapsed": true
   },
   "outputs": [],
   "source": [
    "# Returns the Pearson correlation coefficient for p1 and p2\n",
    "def sim_pearson(prefs,p1,p2):\n",
    "# Get the list of mutually rated items\n",
    "    si={}\n",
    "    for item in prefs[p1]: \n",
    "        if item in prefs[p2]: si[item]=1\n",
    "\n",
    "    # if they have no ratings in common, return 0\n",
    "    if len(si)==0: return 0\n",
    "\n",
    "    # Sum calculations\n",
    "    n=len(si)\n",
    "  \n",
    "    # Sums of all the preferences\n",
    "    sum1=sum([prefs[p1][it] for it in si])\n",
    "    sum2=sum([prefs[p2][it] for it in si])\n",
    "  \n",
    "    # Sums of the squares\n",
    "    sum1Sq=sum([pow(prefs[p1][it],2) for it in si])\n",
    "    sum2Sq=sum([pow(prefs[p2][it],2) for it in si])\t\n",
    "  \n",
    "    # Sum of the products\n",
    "    pSum=sum([prefs[p1][it]*prefs[p2][it] for it in si])\n",
    "  \n",
    "    # Calculate r (Pearson score)\n",
    "    num=pSum-(sum1*sum2/n)\n",
    "    den=np.sqrt((sum1Sq-pow(sum1,2)/n)*(sum2Sq-pow(sum2,2)/n))\n",
    "    if den==0: return 0\n",
    "\n",
    "    r=num/den\n",
    "\n",
    "    return r"
   ]
  },
  {
   "cell_type": "code",
   "execution_count": 10,
   "metadata": {},
   "outputs": [
    {
     "data": {
      "text/plain": [
       "0.39605901719066977"
      ]
     },
     "execution_count": 10,
     "metadata": {},
     "output_type": "execute_result"
    }
   ],
   "source": [
    "sim_pearson(critics,'Lisa Rose','Gene Seymour')"
   ]
  },
  {
   "cell_type": "markdown",
   "metadata": {},
   "source": [
    "## Ranking of critics"
   ]
  },
  {
   "cell_type": "code",
   "execution_count": 53,
   "metadata": {},
   "outputs": [],
   "source": [
    "# Returns the best matches for person from the prefs dictionary. \n",
    "# Number of results and similarity function are optional params.\n",
    "def topMatches(prefs, person, n=5, similarity=sim_pearson):\n",
    "    scores=[(similarity(prefs,person,other),other)\n",
    "    for other in prefs if other!=person]\n",
    "    # sort the marks in descending order\n",
    "    scores.sort()\n",
    "    scores.reverse( )\n",
    "    return scores[0:n]"
   ]
  },
  {
   "cell_type": "code",
   "execution_count": 788,
   "metadata": {},
   "outputs": [
    {
     "data": {
      "text/plain": [
       "[(0.9912407071619299, 'Lisa Rose'),\n",
       " (0.9244734516419049, 'Mick LaSalle'),\n",
       " (0.8934051474415647, 'Claudia Puig')]"
      ]
     },
     "execution_count": 788,
     "metadata": {},
     "output_type": "execute_result"
    }
   ],
   "source": [
    "topMatches(critics,'Toby',n=3)"
   ]
  },
  {
   "cell_type": "markdown",
   "metadata": {},
   "source": [
    "## Movie recommendation"
   ]
  },
  {
   "cell_type": "code",
   "execution_count": 54,
   "metadata": {},
   "outputs": [],
   "source": [
    "# Gets recommendations for a person by using a weighted average\n",
    "# of every other user's rankings\n",
    "def getRecommendations(prefs, person, n, similarity):\n",
    "    totals = {}\n",
    "    simSums = {}\n",
    "    others = {k:v for (v,k) in topMatches(prefs, person, n, similarity)}\n",
    "    for other in others:\n",
    "    # don't compare me to myself\n",
    "        if other == person: continue\n",
    "        sim = others[other]\n",
    "    # ignore scores of zero or lower\n",
    "        if sim<=0: continue\n",
    "        for item in prefs[other]:\n",
    "    # only score movies I haven't seen yet\n",
    "            if item not in prefs[person] or prefs[person][item]==0:\n",
    "    # Similarity * Score\n",
    "                totals.setdefault(item,0)\n",
    "                totals[item]+=prefs[other][item]*sim\n",
    "        # Sum of similarities\n",
    "                simSums.setdefault(item,0)\n",
    "                simSums[item]+=sim\n",
    "    # Create the normalized list\n",
    "    rankings=[(total/simSums[item],item) for item,total in totals.items( )]\n",
    "    # Return the sorted list\n",
    "    rankings.sort( )\n",
    "    rankings.reverse( )\n",
    "    return rankings"
   ]
  },
  {
   "cell_type": "code",
   "execution_count": 802,
   "metadata": {},
   "outputs": [
    {
     "data": {
      "text/plain": [
       "[(3.3477895267131013, 'The Night Listener'),\n",
       " (2.832549918264162, 'Lady in the Water'),\n",
       " (2.530980703765565, 'Just My Luck')]"
      ]
     },
     "execution_count": 802,
     "metadata": {},
     "output_type": "execute_result"
    }
   ],
   "source": [
    "getRecommendations(critics,'Toby', n = 10)"
   ]
  },
  {
   "cell_type": "markdown",
   "metadata": {},
   "source": [
    "## Similarity of items\n",
    "\n",
    "How to change\n",
    "\n",
    "{'Lisa Rose': {'Lady in the Water': 2.5, 'Snakes on a Plane': 3.5},\n",
    "'Gene Seymour': {'Lady in the Water': 3.0, 'Snakes on a Plane': 3.5}}\n",
    "\n",
    "by\n",
    "\n",
    "{'Lady in the Water':{'Lisa Rose':2.5,'Gene Seymour':3.0},\n",
    "'Snakes on a Plane':{'Lisa Rose':3.5,'Gene Seymour':3.5}}?\n"
   ]
  },
  {
   "cell_type": "code",
   "execution_count": 55,
   "metadata": {},
   "outputs": [],
   "source": [
    "def transformPrefs(prefs):\n",
    "    result={}\n",
    "    for person in prefs:\n",
    "        for item in prefs[person]:\n",
    "            result.setdefault(item,{})\n",
    "    # Flip item and person\n",
    "            result[item][person]=prefs[person][item]\n",
    "    return result"
   ]
  },
  {
   "cell_type": "code",
   "execution_count": 24,
   "metadata": {},
   "outputs": [],
   "source": [
    "movies=transformPrefs(critics)"
   ]
  },
  {
   "cell_type": "code",
   "execution_count": 94,
   "metadata": {},
   "outputs": [
    {
     "ename": "NameError",
     "evalue": "name 'movies' is not defined",
     "output_type": "error",
     "traceback": [
      "\u001b[1;31m---------------------------------------------------------------------------\u001b[0m",
      "\u001b[1;31mNameError\u001b[0m                                 Traceback (most recent call last)",
      "\u001b[1;32m<ipython-input-94-1d300a34b6cf>\u001b[0m in \u001b[0;36m<module>\u001b[1;34m()\u001b[0m\n\u001b[1;32m----> 1\u001b[1;33m \u001b[0mmovies\u001b[0m\u001b[1;33m\u001b[0m\u001b[0m\n\u001b[0m",
      "\u001b[1;31mNameError\u001b[0m: name 'movies' is not defined"
     ]
    }
   ],
   "source": [
    "movies"
   ]
  },
  {
   "cell_type": "code",
   "execution_count": 26,
   "metadata": {},
   "outputs": [
    {
     "data": {
      "text/plain": [
       "[(0.6579516949597695, 'You, Me and Dupree'),\n",
       " (0.4879500364742689, 'Lady in the Water'),\n",
       " (0.11180339887498941, 'Snakes on a Plane'),\n",
       " (-0.1798471947990544, 'The Night Listener'),\n",
       " (-0.42289003161103106, 'Just My Luck')]"
      ]
     },
     "execution_count": 26,
     "metadata": {},
     "output_type": "execute_result"
    }
   ],
   "source": [
    "topMatches(movies,'Superman Returns')"
   ]
  },
  {
   "cell_type": "code",
   "execution_count": 126,
   "metadata": {},
   "outputs": [
    {
     "data": {
      "text/plain": [
       "[(4.0, 'Michael Phillips'), (3.0, 'Jack Matthews')]"
      ]
     },
     "execution_count": 126,
     "metadata": {},
     "output_type": "execute_result"
    }
   ],
   "source": [
    "getRecommendations(movies,'Just My Luck')"
   ]
  },
  {
   "cell_type": "markdown",
   "metadata": {},
   "source": [
    "## Item-based collaborative filtering"
   ]
  },
  {
   "cell_type": "code",
   "execution_count": 56,
   "metadata": {},
   "outputs": [],
   "source": [
    "def calculateSimilarItems(prefs, n=10,similarity=sim_distance):\n",
    "    # Create a dictionary of items showing which other items they\n",
    "    # are most similar to.\n",
    "    result={}\n",
    "    # Invert the preference matrix to be item-centric\n",
    "    itemPrefs=transformPrefs(prefs)\n",
    "    c=0\n",
    "    for item in itemPrefs:\n",
    "    # Status updates for large datasets\n",
    "    #    c+=1\n",
    "    #    if c%100==0: print (\"%d / %d\" % (c,len(itemPrefs)))\n",
    "    # Find the most similar items to this one\n",
    "        scores=topMatches(itemPrefs,item,n=n)\n",
    "        result[item]=scores\n",
    "    return result"
   ]
  },
  {
   "cell_type": "code",
   "execution_count": 95,
   "metadata": {},
   "outputs": [
    {
     "data": {
      "text/plain": [
       "{'Just My Luck': [(0.5555555555555556, 'The Night Listener'),\n",
       "  (-0.3333333333333333, 'Snakes on a Plane'),\n",
       "  (-0.42289003161103106, 'Superman Returns'),\n",
       "  (-0.4856618642571827, 'You, Me and Dupree'),\n",
       "  (-0.9449111825230676, 'Lady in the Water')],\n",
       " 'Lady in the Water': [(0.7637626158259785, 'Snakes on a Plane'),\n",
       "  (0.4879500364742689, 'Superman Returns'),\n",
       "  (0.3333333333333333, 'You, Me and Dupree'),\n",
       "  (-0.6123724356957927, 'The Night Listener'),\n",
       "  (-0.9449111825230676, 'Just My Luck')],\n",
       " 'Snakes on a Plane': [(0.7637626158259785, 'Lady in the Water'),\n",
       "  (0.11180339887498941, 'Superman Returns'),\n",
       "  (-0.3333333333333333, 'Just My Luck'),\n",
       "  (-0.5663521139548527, 'The Night Listener'),\n",
       "  (-0.6454972243679047, 'You, Me and Dupree')],\n",
       " 'Superman Returns': [(0.6579516949597695, 'You, Me and Dupree'),\n",
       "  (0.4879500364742689, 'Lady in the Water'),\n",
       "  (0.11180339887498941, 'Snakes on a Plane'),\n",
       "  (-0.1798471947990544, 'The Night Listener'),\n",
       "  (-0.42289003161103106, 'Just My Luck')],\n",
       " 'The Night Listener': [(0.5555555555555556, 'Just My Luck'),\n",
       "  (-0.1798471947990544, 'Superman Returns'),\n",
       "  (-0.250000000000002, 'You, Me and Dupree'),\n",
       "  (-0.5663521139548527, 'Snakes on a Plane'),\n",
       "  (-0.6123724356957927, 'Lady in the Water')],\n",
       " 'You, Me and Dupree': [(0.6579516949597695, 'Superman Returns'),\n",
       "  (0.3333333333333333, 'Lady in the Water'),\n",
       "  (-0.250000000000002, 'The Night Listener'),\n",
       "  (-0.4856618642571827, 'Just My Luck'),\n",
       "  (-0.6454972243679047, 'Snakes on a Plane')]}"
      ]
     },
     "execution_count": 95,
     "metadata": {},
     "output_type": "execute_result"
    }
   ],
   "source": [
    "itemsim=calculateSimilarItems(critics)\n",
    "itemsim"
   ]
  },
  {
   "cell_type": "code",
   "execution_count": 57,
   "metadata": {},
   "outputs": [],
   "source": [
    "def getRecommendedItems(prefs, user, itemMatch):\n",
    "    userRatings=prefs[user]\n",
    "    scores={}\n",
    "    totalSim={}\n",
    "\n",
    "    # Loop over items rated by this user\n",
    "    for (item,rating) in userRatings.items():\n",
    "        \n",
    "    # Loop over items similar to this one\n",
    "        for (similarity,item2) in itemMatch[item]:\n",
    "    # Ignore if this user has already rated this item\n",
    "            if item2 in userRatings: continue\n",
    "        # Weighted sum of rating times similarity\n",
    "            scores.setdefault(item2,0)\n",
    "            scores[item2]+=similarity*rating\n",
    "        # Sum of all the similarities\n",
    "            totalSim.setdefault(item2,0)\n",
    "            totalSim[item2]+=similarity\n",
    "            if totalSim[item2]==0: totalSim[item2]=0.0000001 # to avoid division by zero\n",
    "    # Divide each total score by total weighting to get an average\n",
    "    rankings=[(score/totalSim[item],item) for item,score in scores.items( ) ]\n",
    "\n",
    "    # Return the rankings from highest to lowest\n",
    "    rankings.sort( )\n",
    "    rankings.reverse( )\n",
    "    return rankings"
   ]
  },
  {
   "cell_type": "code",
   "execution_count": 96,
   "metadata": {},
   "outputs": [
    {
     "data": {
      "text/plain": [
       "[(3.610031066802182, 'Lady in the Water'),\n",
       " (3.531395034185976, 'The Night Listener'),\n",
       " (2.9609998607242685, 'Just My Luck')]"
      ]
     },
     "execution_count": 96,
     "metadata": {},
     "output_type": "execute_result"
    }
   ],
   "source": [
    "getRecommendedItems(critics, 'Toby', itemsim)"
   ]
  },
  {
   "cell_type": "markdown",
   "metadata": {},
   "source": [
    "## Recommendations for MovieLens dataset\n",
    "\n",
    "Data source: http://grouplens.org/datasets/movielens/"
   ]
  },
  {
   "cell_type": "code",
   "execution_count": 58,
   "metadata": {
    "collapsed": true
   },
   "outputs": [],
   "source": [
    "def loadMovieLens(path='data/movielens'):\n",
    "# Get movie titles\n",
    "    movies={}    \n",
    "    for line in codecs.open(path + '/u.item', encoding='utf-8', errors='ignore'):\n",
    "        (id,title)=line.split('|')[0:2]\n",
    "        movies[id]=title\n",
    "# Load data\n",
    "    prefs={}\n",
    "    for line in open(path+'/u.data'):\n",
    "        (user,movieid,rating,ts)=line.split('\\t')\n",
    "        prefs.setdefault(user,{})\n",
    "        prefs[user][movies[movieid]]=float(rating)\n",
    "    return prefs"
   ]
  },
  {
   "cell_type": "code",
   "execution_count": 97,
   "metadata": {},
   "outputs": [
    {
     "ename": "NameError",
     "evalue": "name 'prefs' is not defined",
     "output_type": "error",
     "traceback": [
      "\u001b[1;31m---------------------------------------------------------------------------\u001b[0m",
      "\u001b[1;31mNameError\u001b[0m                                 Traceback (most recent call last)",
      "\u001b[1;32m<ipython-input-97-598d58f09a94>\u001b[0m in \u001b[0;36m<module>\u001b[1;34m()\u001b[0m\n\u001b[1;32m----> 1\u001b[1;33m \u001b[0mgetRecommendations\u001b[0m\u001b[1;33m(\u001b[0m\u001b[0mprefs\u001b[0m\u001b[1;33m,\u001b[0m\u001b[1;34m'87'\u001b[0m\u001b[1;33m)\u001b[0m\u001b[1;33m[\u001b[0m\u001b[1;36m0\u001b[0m\u001b[1;33m:\u001b[0m\u001b[1;36m30\u001b[0m\u001b[1;33m]\u001b[0m\u001b[1;33m\u001b[0m\u001b[0m\n\u001b[0m",
      "\u001b[1;31mNameError\u001b[0m: name 'prefs' is not defined"
     ]
    }
   ],
   "source": [
    "getRecommendations(prefs,'87')[0:30]"
   ]
  },
  {
   "cell_type": "markdown",
   "metadata": {},
   "source": [
    "# Tasks\n",
    "## 1. Comparison of user-based and item-based collaborative filtering (5 out 10)\n",
    "\n",
    "You need to implement MAE and RMSE quality measures to compare user-based and item-based approaches on MovieLens dataset (http://grouplens.org/datasets/movielens/).\n",
    "\n",
    "* The training datasets have file extension '.base'. The training/test datasets' pairs are given as follows u1.base and u1.test, ..., u5.base and u5.test Each pair is a partition of the original data into  80%/20%  for training and test datasets respectively.\n",
    "* For each method (user-based and item-based with vairous similarity measures) plot grpahs of MAE and RMSE agaist the number of nearest neighbours.\n",
    "* If the results' quality is too poor (MAE>2.0) try variants 2.6 and 2.7 from http://files.grouplens.org/papers/FnT%20CF%20Recsys%20Survey.pdf\n",
    "\n",
    "## 2. SVD-based (Singular Value Decomposition) recommendation (5 out 10)\n",
    "\n",
    "* Select a proper SVD-based model's implementation  based on gradient descent: http://www.recsyswiki.com/wiki/Category:Software\n",
    " * E.g., Oscar Celma's implementation: http://ocelma.net/software/python-recsys/build/html/#\n",
    " * FunkSVD  http://lenskit.org/documentation/algorithms/svd/ (see also the original blog for details http://sifter.org/~simon/journal/20061211.html)\n",
    " * Makar Stetsenko implementation: https://github.com/Makazone/2ndYear-TermProject/\n",
    "\n",
    "* Train the model and compare its quality by MAE and RMSE for the same split from Task 1."
   ]
  },
  {
   "cell_type": "markdown",
   "metadata": {},
   "source": [
    "### User- vs. Item-based recommendations."
   ]
  },
  {
   "cell_type": "code",
   "execution_count": 65,
   "metadata": {
    "collapsed": true
   },
   "outputs": [],
   "source": [
    "import codecs\n",
    "import numpy as np\n",
    "import sklearn.metrics as metrics"
   ]
  },
  {
   "cell_type": "markdown",
   "metadata": {},
   "source": [
    "Loading function"
   ]
  },
  {
   "cell_type": "code",
   "execution_count": 59,
   "metadata": {
    "collapsed": true
   },
   "outputs": [],
   "source": [
    "def loadMovieLens(path, n):\n",
    "# Get movie titles\n",
    "    movies={}    \n",
    "    for line in codecs.open(path + '/u.item', encoding='utf-8', errors='ignore'):\n",
    "        (id,title)=line.split('|')[0:2]\n",
    "        movies[id]=title\n",
    "# Load data\n",
    "    prefs_train = {}\n",
    "    for line in open(path + '/u' + str(n) + '.base'):\n",
    "        (user,movieid,rating,ts)=line.split('\\t')\n",
    "        prefs_train.setdefault(user,{})\n",
    "        prefs_train[user][movies[movieid]]=float(rating)\n",
    "    prefs_test = {}\n",
    "    for line in open(path + '/u' + str(n) + '.test'):\n",
    "        (user, movieid, rating, ts)=line.split('\\t')\n",
    "        prefs_test.setdefault(user,{})\n",
    "        prefs_test[user][movies[movieid]]=float(rating)\n",
    "    return prefs_train, prefs_test"
   ]
  },
  {
   "cell_type": "code",
   "execution_count": 4,
   "metadata": {},
   "outputs": [],
   "source": [
    "train, test = loadMovieLens(path = '/home/hpish/Data', n=5)"
   ]
  },
  {
   "cell_type": "code",
   "execution_count": 60,
   "metadata": {},
   "outputs": [],
   "source": [
    "# Returns additional similarity metric: distance-based similarity score for person1 and person2\n",
    "def sim_cosine(prefs,person1,person2):\n",
    "# Get the list of shared_items\n",
    "    si={}\n",
    "    for item in prefs[person1]:\n",
    "        if item in prefs[person2]:\n",
    "            si[item]=1\n",
    "# if they have no ratings in common, return 0\n",
    "    if len(si)==0: return 0\n",
    "# Add up the squares of all the differences\n",
    "    A = np.array([prefs[person1][item] for item in si.keys()])\n",
    "    B = np.array([prefs[person2][item] for item in si.keys()])\n",
    "    cosine_sum=A.dot(np.transpose(B))\n",
    "    return cosine_sum/(np.linalg.norm(A)*np.linalg.norm(B))"
   ]
  },
  {
   "cell_type": "code",
   "execution_count": 78,
   "metadata": {},
   "outputs": [
    {
     "name": "stdout",
     "output_type": "stream",
     "text": [
      "{u'Princess Bride, The (1987)': 5.0, u'Rock, The (1996)': 3.0, u'Secret of Roan Inish, The (1994)': 4.0, u'Everyone Says I Love You (1996)': 1.0, u'L.A. Confidential (1997)': 5.0, u'Fargo (1996)': 5.0, u'To Die For (1995)': 4.0, u'James and the Giant Peach (1996)': 4.0, u'Contact (1997)': 3.0, u\"It's a Wonderful Life (1946)\": 4.0, u'Fierce Creatures (1997)': 2.0, u'Father of the Bride Part II (1995)': 2.0}\n"
     ]
    }
   ],
   "source": [
    "print(test['344'])"
   ]
  },
  {
   "cell_type": "markdown",
   "metadata": {},
   "source": [
    "Error functions:"
   ]
  },
  {
   "cell_type": "code",
   "execution_count": 61,
   "metadata": {
    "collapsed": true
   },
   "outputs": [],
   "source": [
    "def RMSEerr(rec, test):\n",
    "    # UserRec: recommendations for user, dictionary\n",
    "    # UserTest: test data, dictionary \n",
    "    s_rec = set(rec.keys())\n",
    "    s_test = set(test.keys())\n",
    "    intersect = set.intersection(s_rec, s_test)\n",
    "    x = np.array([rec[item] for item in intersect])\n",
    "    y = np.array([test[item] for item in intersect])\n",
    "    if len(x)==0 or len(y)==0:\n",
    "        return [0,0]\n",
    "    return [1,metrics.mean_squared_error(x,y)]"
   ]
  },
  {
   "cell_type": "code",
   "execution_count": 62,
   "metadata": {},
   "outputs": [],
   "source": [
    "def MAEerr(rec, test):\n",
    "    # UserRec: recommendations for user, dictionary\n",
    "    # UserTest: test data, dictionary \n",
    "    s_rec = set(rec.keys())\n",
    "    s_test = set(test.keys())\n",
    "    intersect = set.intersection(s_rec, s_test)\n",
    "    x = np.array([rec[item] for item in intersect])\n",
    "    y = np.array([test[item] for item in intersect])\n",
    "    if len(x)==0 or len(y)==0:\n",
    "        return [0,0]\n",
    "    return [1,metrics.mean_absolute_error(x,y)]"
   ]
  },
  {
   "cell_type": "code",
   "execution_count": 66,
   "metadata": {},
   "outputs": [],
   "source": [
    "data=[]\n",
    "for s in range(1, 6):\n",
    "    prefs_train, prefs_test = loadMovieLens(path = '/home/hpish/Data', n = s)\n",
    "    data.append([prefs_train, prefs_test])"
   ]
  },
  {
   "cell_type": "code",
   "execution_count": null,
   "metadata": {},
   "outputs": [],
   "source": []
  },
  {
   "cell_type": "markdown",
   "metadata": {},
   "source": [
    "Applying our error metric to dataset (using 5-fold CV)"
   ]
  },
  {
   "cell_type": "code",
   "execution_count": 63,
   "metadata": {},
   "outputs": [],
   "source": [
    "def CVerror(path, nneighbors, RecFunc, metric, similarity):\n",
    "    CVerr = []\n",
    "    # Loop over data partitions\n",
    "    for s in range(0, 5): \n",
    "        prefs_train = data[s][0]\n",
    "        prefs_test = data[s][1]\n",
    "        Errsum = []\n",
    "        if RecFunc == getRecommendedItems:\n",
    "            ItemsSim = calculateSimilarItems(prefs_train, n=nneighbors,similarity = similarity)\n",
    "            for i in prefs_train.keys():\n",
    "                # solving no data error\n",
    "                if i not in prefs_test.keys(): continue\n",
    "                Rec = {f:s for (s,f) in getRecommendedItems(prefs_train, i, ItemsSim)}\n",
    "                # Increment Split RSS\n",
    "                if metric == 'rmse':\n",
    "                    Errlocal = RMSEerr(Rec, prefs_test[i])\n",
    "                else:\n",
    "                    Errlocal = MAEerr(Rec, prefs_test[i])\n",
    "                if Errlocal[0] == 1:\n",
    "                    Errsum.append(Errlocal[1])\n",
    "        elif RecFunc == getRecommendations:\n",
    "            for i in prefs_train.keys():\n",
    "                # solving no data error\n",
    "                if i not in prefs_test.keys(): continue\n",
    "                Rec = {k:v for (v,k) in getRecommendations(prefs_train, i, n = nneighbors, similarity = similarity)}\n",
    "                if metric == 'rmse':\n",
    "                    Errlocal = RMSEerr(Rec, prefs_test[i])\n",
    "                else:\n",
    "                    Errlocal = MAEerr(Rec, prefs_test[i])\n",
    "                if Errlocal[0] == 1:\n",
    "                    Errsum.append(Errlocal[1])\n",
    "        if metric == 'rmse':\n",
    "            ErrorCVloc = np.sqrt(sum(Errsum) / len(Errsum))\n",
    "        else:\n",
    "            ErrorCVloc = sum(Errsum) / len(Errsum)\n",
    "        CVerr.append(ErrorCVloc)\n",
    "        meanerr = np.array(CVerr).mean()\n",
    "    return meanerr       "
   ]
  },
  {
   "cell_type": "code",
   "execution_count": 111,
   "metadata": {},
   "outputs": [
    {
     "name": "stdout",
     "output_type": "stream",
     "text": [
      "0\n",
      "1\n",
      "2\n",
      "3\n",
      "4\n",
      "1.16316953587\n"
     ]
    }
   ],
   "source": [
    "print(CVerror(path = '/home/hpish/Data', nneighbors = 20, \n",
    "          RecFunc=getRecommendedItems, metric = 'mae',similarity = sim_pearson))"
   ]
  },
  {
   "cell_type": "code",
   "execution_count": null,
   "metadata": {},
   "outputs": [],
   "source": [
    "Neignbors = np.arange(1, 100, 20)\n",
    "Item_Mae, Item_Rmse, User_Mae, User_Rmse = [], [], [], []\n",
    "\n",
    "# Calculate errors:    \n",
    "for n in NumNeighborsRange:\n",
    "    Item_Mae.append(CVerror(path = '/home/hpish/Data', nneighbors = n, \n",
    "          RecFunc=getRecommendedItems, metric = 'mae',similarity = sim_pearson))\n",
    "    Item_Rmse.append(CVerror(path = '/home/hpish/Data', nneighbors = n, \n",
    "          RecFunc=getRecommendedItems, metric = 'rmse',similarity = sim_pearson))\n",
    "    User_Mae.append(CVerror(path = '/home/hpish/Data', nneighbors = n, \n",
    "          RecFunc=getRecommendations, metric = 'mae',similarity = sim_pearson))\n",
    "    User_Rmse.append(CVerror(path = '/home/hpish/Data', nneighbors = n, \n",
    "          RecFunc=getRecommendations, metric = 'rmse',similarity = sim_pearson))"
   ]
  },
  {
   "cell_type": "code",
   "execution_count": 124,
   "metadata": {},
   "outputs": [
    {
     "name": "stdout",
     "output_type": "stream",
     "text": [
      "([1.2287404430234192, 1.1649096161356316, 1.1535195928329141, 1.0978656911989511, 1.0683073864218673], [1.6012294264921416, 1.5263565331360005, 1.5107436748866754, 1.4605254997861483, 1.4264515121784145], [1.0900102187157892, 0.99701584233087837, 0.94806675437115084, 0.92348289893426438, 0.89470946140912433], [1.4321402383147439, 1.2951648469206378, 1.2320023288735944, 1.1914059926154854, 1.1483473656279113])\n"
     ]
    }
   ],
   "source": [
    "print (Item_Mae, Item_Rmse, User_Mae, User_Rmse)"
   ]
  },
  {
   "cell_type": "markdown",
   "metadata": {},
   "source": [
    "Plot results."
   ]
  },
  {
   "cell_type": "code",
   "execution_count": 84,
   "metadata": {
    "collapsed": true
   },
   "outputs": [],
   "source": [
    "import matplotlib.pyplot as plt\n",
    "% matplotlib inline"
   ]
  },
  {
   "cell_type": "code",
   "execution_count": 113,
   "metadata": {},
   "outputs": [
    {
     "data": {
      "image/png": "[encoded data removed]",
      "text/plain": [
       "<matplotlib.figure.Figure at 0x7f0a037dbcd0>"
      ]
     },
     "metadata": {},
     "output_type": "display_data"
    }
   ],
   "source": [
    "plt.figure(figsize=(16,8))\n",
    "plt.subplot(1,2,1)\n",
    "plt.plot(Neignbors , Item_Mae, '.-', lw = 2)\n",
    "plt.plot(Neignbors , User_Mae, '.-', lw = 2)\n",
    "plt.legend(['Item', 'User']); plt.xlabel('num of neighbors'), plt.title('MAE')\n",
    "plt.grid()\n",
    "\n",
    "plt.subplot(1,2,2)\n",
    "plt.plot(NumNeighborsRange, ItemRMSE, '.-', lw = 2)\n",
    "plt.plot(NumNeighborsRange, UserRMSE, '.-', lw = 2)\n",
    "plt.legend(['Item', 'User']); plt.xlabel('num of neighbors'), plt.title('RMSE')\n",
    "plt.grid()"
   ]
  },
  {
   "cell_type": "markdown",
   "metadata": {},
   "source": [
    "* User - based recommendations have lower errors.\n",
    "* Number of neighbors has positive effect, the more neighbors - the less error is.  "
   ]
  },
  {
   "cell_type": "markdown",
   "metadata": {},
   "source": [
    "We can see that with jaccard metric, the best we can get is around .90 when n=80 (by MAE)"
   ]
  },
  {
   "cell_type": "markdown",
   "metadata": {},
   "source": [
    "It is possible to calculate the same for distance metric and cosine similarity (added in project), but results are quite similar"
   ]
  },
  {
   "cell_type": "markdown",
   "metadata": {},
   "source": [
    "Here we compute 3 functions with different similarity metrics, and we receive exactly the same results. So choise os similarity metric wouldn't have affected plot"
   ]
  },
  {
   "cell_type": "code",
   "execution_count": 67,
   "metadata": {},
   "outputs": [
    {
     "data": {
      "text/plain": [
       "[1.155763628619477, 1.155763628619477, 1.155763628619477]"
      ]
     },
     "execution_count": 67,
     "metadata": {},
     "output_type": "execute_result"
    }
   ],
   "source": [
    "[CVerror(path = '/home/hpish/Data', nneighbors = 40, \n",
    "          RecFunc=getRecommendedItems, metric = 'mae',similarity = sim_pearson), CVerror(path = '/home/hpish/Data', nneighbors = 40, \n",
    "          RecFunc=getRecommendedItems, metric = 'mae',similarity = sim_cosine), CVerror(path = '/home/hpish/Data', nneighbors = 40, \n",
    "          RecFunc=getRecommendedItems, metric = 'mae',similarity = sim_distance)]"
   ]
  },
  {
   "cell_type": "markdown",
   "metadata": {},
   "source": [
    "### SVD recommendations."
   ]
  },
  {
   "cell_type": "markdown",
   "metadata": {},
   "source": [
    "I use Oscar Celma's implementation -it's quite easy to implement, is fast, and allows to easily load the dataset"
   ]
  },
  {
   "cell_type": "code",
   "execution_count": 31,
   "metadata": {},
   "outputs": [],
   "source": [
    "import recsys\n",
    "import numpy as np\n"
   ]
  },
  {
   "cell_type": "code",
   "execution_count": 2,
   "metadata": {},
   "outputs": [],
   "source": [
    "from recsys.algorithm.factorize import SVD\n",
    "from recsys.datamodel.data import Data\n",
    "from recsys.evaluation.prediction import RMSE, MAE"
   ]
  },
  {
   "cell_type": "code",
   "execution_count": 44,
   "metadata": {},
   "outputs": [],
   "source": [
    "Rm =[]\n",
    "Ma =[]\n",
    "for k in range(10,100,20):\n",
    "    Rmse_score =[]\n",
    "    Mae_score = []\n",
    "    for n in range(1,6):\n",
    "        path = '/home/hpish/Data'\n",
    "        filenametr = path + '/u' + str(n) + '.base'\n",
    "        filenamets = path + '/u' + str(n) + '.test'\n",
    "        datats = Data()\n",
    "        datatr = Data()\n",
    "        formatd = {'col':0, 'row':1, 'value':2, 'ids': 'int'}\n",
    "        datats.load(filenamets, sep='\\t', format=formatd)\n",
    "        datatr.load(filenametr, sep='\\t', format=formatd)\n",
    "        test = datats\n",
    "        train = datatr\n",
    "        rmse = RMSE()\n",
    "        mae = MAE()\n",
    "        K=k\n",
    "        svd = SVD()\n",
    "        svd.set_data(train)\n",
    "        svd.compute(k=K, min_values=5, pre_normalize=None, mean_center=True, post_normalize=True)\n",
    "        rmse = RMSE()\n",
    "        mae = MAE()\n",
    "        for rating, item_id, user_id in test.get():\n",
    "            try:\n",
    "                pred_rating = svd.predict(item_id, user_id)\n",
    "                rmse.add(rating, pred_rating)\n",
    "                mae.add(rating, pred_rating)\n",
    "            except KeyError:\n",
    "                continue\n",
    "        Rmse_score.append(rmse.compute())\n",
    "        Mae_score.append(mae.compute())\n",
    "    Rm.append(np.array(Rmse_score).mean())\n",
    "    Ma.append(np.array(Mae_score).mean())\n"
   ]
  },
  {
   "cell_type": "code",
   "execution_count": 46,
   "metadata": {},
   "outputs": [],
   "source": [
    "Neighbors = np.arange(1, 100, 20)\n",
    "SVDMAE, SVDRMSE, = Ma,Rm\n"
   ]
  },
  {
   "cell_type": "markdown",
   "metadata": {},
   "source": [
    "Plot results."
   ]
  },
  {
   "cell_type": "code",
   "execution_count": 47,
   "metadata": {
    "collapsed": true
   },
   "outputs": [],
   "source": [
    "import matplotlib.pyplot as plt\n",
    "% matplotlib inline"
   ]
  },
  {
   "cell_type": "code",
   "execution_count": 48,
   "metadata": {},
   "outputs": [
    {
     "data": {
      "image/png": "[encoded data removed]",
      "text/plain": [
       "<matplotlib.figure.Figure at 0x7fafb63a9110>"
      ]
     },
     "metadata": {},
     "output_type": "display_data"
    }
   ],
   "source": [
    "plt.figure(figsize=(16,8))\n",
    "plt.xlabel('num of neighbors')\n",
    "plt.subplot(1,2,1)\n",
    "\n",
    "plt.plot(Neighbors,SVDMAE,'.-', lw = 2)\n",
    "plt.title('MAE')\n",
    "plt.xlabel('num of neighbors')\n",
    "plt.grid()\n",
    "\n",
    "plt.subplot(1,2,2)\n",
    "plt.plot(Neighbors,SVDRMSE, '.-', lw = 2)\n",
    "plt.title('RMSE')\n",
    "plt.xlabel('num of neighbors')\n",
    "plt.grid()"
   ]
  },
  {
   "cell_type": "markdown",
   "metadata": {},
   "source": [
    "Interestingly, the accuracy actualy decreases with with number of neighbors, but extremely slightly. It may have something to do with insufficient data for enough calculations or high data variability, though CV is used"
   ]
  },
  {
   "cell_type": "markdown",
   "metadata": {},
   "source": [
    "**Conclusion:**\n",
    "\n",
    "We can observe that SVD calculation is far superior to other method-much,much faster, while yelds less mistakes\n",
    "calculation time is around 5 minuts for SVD vs around an hour for User/Item beased approach and direct computation"
   ]
  },
  {
   "cell_type": "code",
   "execution_count": null,
   "metadata": {
    "collapsed": true
   },
   "outputs": [],
   "source": []
  }
 ],
 "metadata": {
  "kernelspec": {
   "display_name": "Python 3",
   "language": "python",
   "name": "python3"
  },
  "language_info": {
   "codemirror_mode": {
    "name": "ipython",
    "version": 3
   },
   "file_extension": ".py",
   "mimetype": "text/x-python",
   "name": "python",
   "nbconvert_exporter": "python",
   "pygments_lexer": "ipython3",
   "version": "3.5.2"
  },
  "name": "lesson11_recsys.ipynb"
 },
 "nbformat": 4,
 "nbformat_minor": 1
}
